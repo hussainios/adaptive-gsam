{
  "cells": [
    {
      "attachments": {},
      "cell_type": "markdown",
      "metadata": {
        "id": "ewUAfcLbp-Is"
      },
      "source": [
        "[![Open In Colab](https://colab.research.google.com/assets/colab-badge.svg)](https://colab.research.google.com/github/mortfer/keras-gsam/blob/master/examples/gsam_comparison.ipynb)"
      ]
    },
    {
      "attachments": {},
      "cell_type": "markdown",
      "metadata": {
        "id": "yCS-CVSi1K0i"
      },
      "source": [
        "## Initial Setup"
      ]
    },
    {
      "cell_type": "code",
      "execution_count": 4,
      "metadata": {
        "colab": {
          "base_uri": "https://localhost:8080/"
        },
        "id": "-ovuIRXrf-CN",
        "outputId": "d8e3bb5e-5970-4d56-b70a-c4c989d625cb"
      },
      "outputs": [
        {
          "name": "stdout",
          "output_type": "stream",
          "text": [
            "Collecting git+https://github.com/mortfer/keras-gsam.git\n",
            "  Cloning https://github.com/mortfer/keras-gsam.git to /tmp/pip-req-build-5idkwe3h\n",
            "  Running command git clone --filter=blob:none --quiet https://github.com/mortfer/keras-gsam.git /tmp/pip-req-build-5idkwe3h\n",
            "  Resolved https://github.com/mortfer/keras-gsam.git to commit b2b5a03e9e15a63366892e1ed7cacba145007261\n",
            "  Preparing metadata (setup.py) ... \u001b[?25l\u001b[?25hdone\n",
            "Requirement already satisfied: tensorflow>=2.10 in /usr/local/lib/python3.10/dist-packages (from keras-gsam==1.0.0) (2.12.0)\n",
            "Requirement already satisfied: absl-py>=1.0.0 in /usr/local/lib/python3.10/dist-packages (from tensorflow>=2.10->keras-gsam==1.0.0) (1.4.0)\n",
            "Requirement already satisfied: astunparse>=1.6.0 in /usr/local/lib/python3.10/dist-packages (from tensorflow>=2.10->keras-gsam==1.0.0) (1.6.3)\n",
            "Requirement already satisfied: flatbuffers>=2.0 in /usr/local/lib/python3.10/dist-packages (from tensorflow>=2.10->keras-gsam==1.0.0) (23.5.26)\n",
            "Requirement already satisfied: gast<=0.4.0,>=0.2.1 in /usr/local/lib/python3.10/dist-packages (from tensorflow>=2.10->keras-gsam==1.0.0) (0.4.0)\n",
            "Requirement already satisfied: google-pasta>=0.1.1 in /usr/local/lib/python3.10/dist-packages (from tensorflow>=2.10->keras-gsam==1.0.0) (0.2.0)\n",
            "Requirement already satisfied: grpcio<2.0,>=1.24.3 in /usr/local/lib/python3.10/dist-packages (from tensorflow>=2.10->keras-gsam==1.0.0) (1.56.0)\n",
            "Requirement already satisfied: h5py>=2.9.0 in /usr/local/lib/python3.10/dist-packages (from tensorflow>=2.10->keras-gsam==1.0.0) (3.8.0)\n",
            "Requirement already satisfied: jax>=0.3.15 in /usr/local/lib/python3.10/dist-packages (from tensorflow>=2.10->keras-gsam==1.0.0) (0.3.25)\n",
            "Requirement already satisfied: keras<2.13,>=2.12.0 in /usr/local/lib/python3.10/dist-packages (from tensorflow>=2.10->keras-gsam==1.0.0) (2.12.0)\n",
            "Requirement already satisfied: libclang>=13.0.0 in /usr/local/lib/python3.10/dist-packages (from tensorflow>=2.10->keras-gsam==1.0.0) (16.0.0)\n",
            "Requirement already satisfied: numpy<1.24,>=1.22 in /usr/local/lib/python3.10/dist-packages (from tensorflow>=2.10->keras-gsam==1.0.0) (1.23.5)\n",
            "Requirement already satisfied: opt-einsum>=2.3.2 in /usr/local/lib/python3.10/dist-packages (from tensorflow>=2.10->keras-gsam==1.0.0) (3.3.0)\n",
            "Requirement already satisfied: packaging in /usr/local/lib/python3.10/dist-packages (from tensorflow>=2.10->keras-gsam==1.0.0) (23.1)\n",
            "Requirement already satisfied: protobuf!=4.21.0,!=4.21.1,!=4.21.2,!=4.21.3,!=4.21.4,!=4.21.5,<5.0.0dev,>=3.20.3 in /usr/local/lib/python3.10/dist-packages (from tensorflow>=2.10->keras-gsam==1.0.0) (3.20.3)\n",
            "Requirement already satisfied: setuptools in /usr/local/lib/python3.10/dist-packages (from tensorflow>=2.10->keras-gsam==1.0.0) (67.7.2)\n",
            "Requirement already satisfied: six>=1.12.0 in /usr/local/lib/python3.10/dist-packages (from tensorflow>=2.10->keras-gsam==1.0.0) (1.16.0)\n",
            "Requirement already satisfied: tensorboard<2.13,>=2.12 in /usr/local/lib/python3.10/dist-packages (from tensorflow>=2.10->keras-gsam==1.0.0) (2.12.3)\n",
            "Requirement already satisfied: tensorflow-estimator<2.13,>=2.12.0 in /usr/local/lib/python3.10/dist-packages (from tensorflow>=2.10->keras-gsam==1.0.0) (2.12.0)\n",
            "Requirement already satisfied: termcolor>=1.1.0 in /usr/local/lib/python3.10/dist-packages (from tensorflow>=2.10->keras-gsam==1.0.0) (2.3.0)\n",
            "Requirement already satisfied: typing-extensions>=3.6.6 in /usr/local/lib/python3.10/dist-packages (from tensorflow>=2.10->keras-gsam==1.0.0) (4.7.1)\n",
            "Requirement already satisfied: wrapt<1.15,>=1.11.0 in /usr/local/lib/python3.10/dist-packages (from tensorflow>=2.10->keras-gsam==1.0.0) (1.14.1)\n",
            "Requirement already satisfied: tensorflow-io-gcs-filesystem>=0.23.1 in /usr/local/lib/python3.10/dist-packages (from tensorflow>=2.10->keras-gsam==1.0.0) (0.32.0)\n",
            "Requirement already satisfied: wheel<1.0,>=0.23.0 in /usr/local/lib/python3.10/dist-packages (from astunparse>=1.6.0->tensorflow>=2.10->keras-gsam==1.0.0) (0.40.0)\n",
            "Requirement already satisfied: scipy>=1.5 in /usr/local/lib/python3.10/dist-packages (from jax>=0.3.15->tensorflow>=2.10->keras-gsam==1.0.0) (1.11.1)\n",
            "Requirement already satisfied: google-auth<3,>=1.6.3 in /usr/local/lib/python3.10/dist-packages (from tensorboard<2.13,>=2.12->tensorflow>=2.10->keras-gsam==1.0.0) (2.17.3)\n",
            "Requirement already satisfied: google-auth-oauthlib<1.1,>=0.5 in /usr/local/lib/python3.10/dist-packages (from tensorboard<2.13,>=2.12->tensorflow>=2.10->keras-gsam==1.0.0) (1.0.0)\n",
            "Requirement already satisfied: markdown>=2.6.8 in /usr/local/lib/python3.10/dist-packages (from tensorboard<2.13,>=2.12->tensorflow>=2.10->keras-gsam==1.0.0) (3.4.3)\n",
            "Requirement already satisfied: requests<3,>=2.21.0 in /usr/local/lib/python3.10/dist-packages (from tensorboard<2.13,>=2.12->tensorflow>=2.10->keras-gsam==1.0.0) (2.27.1)\n",
            "Requirement already satisfied: tensorboard-data-server<0.8.0,>=0.7.0 in /usr/local/lib/python3.10/dist-packages (from tensorboard<2.13,>=2.12->tensorflow>=2.10->keras-gsam==1.0.0) (0.7.1)\n",
            "Requirement already satisfied: werkzeug>=1.0.1 in /usr/local/lib/python3.10/dist-packages (from tensorboard<2.13,>=2.12->tensorflow>=2.10->keras-gsam==1.0.0) (2.3.6)\n",
            "Requirement already satisfied: cachetools<6.0,>=2.0.0 in /usr/local/lib/python3.10/dist-packages (from google-auth<3,>=1.6.3->tensorboard<2.13,>=2.12->tensorflow>=2.10->keras-gsam==1.0.0) (5.3.1)\n",
            "Requirement already satisfied: pyasn1-modules>=0.2.1 in /usr/local/lib/python3.10/dist-packages (from google-auth<3,>=1.6.3->tensorboard<2.13,>=2.12->tensorflow>=2.10->keras-gsam==1.0.0) (0.3.0)\n",
            "Requirement already satisfied: rsa<5,>=3.1.4 in /usr/local/lib/python3.10/dist-packages (from google-auth<3,>=1.6.3->tensorboard<2.13,>=2.12->tensorflow>=2.10->keras-gsam==1.0.0) (4.9)\n",
            "Requirement already satisfied: requests-oauthlib>=0.7.0 in /usr/local/lib/python3.10/dist-packages (from google-auth-oauthlib<1.1,>=0.5->tensorboard<2.13,>=2.12->tensorflow>=2.10->keras-gsam==1.0.0) (1.3.1)\n",
            "Requirement already satisfied: urllib3<1.27,>=1.21.1 in /usr/local/lib/python3.10/dist-packages (from requests<3,>=2.21.0->tensorboard<2.13,>=2.12->tensorflow>=2.10->keras-gsam==1.0.0) (1.26.16)\n",
            "Requirement already satisfied: certifi>=2017.4.17 in /usr/local/lib/python3.10/dist-packages (from requests<3,>=2.21.0->tensorboard<2.13,>=2.12->tensorflow>=2.10->keras-gsam==1.0.0) (2023.5.7)\n",
            "Requirement already satisfied: charset-normalizer~=2.0.0 in /usr/local/lib/python3.10/dist-packages (from requests<3,>=2.21.0->tensorboard<2.13,>=2.12->tensorflow>=2.10->keras-gsam==1.0.0) (2.0.12)\n",
            "Requirement already satisfied: idna<4,>=2.5 in /usr/local/lib/python3.10/dist-packages (from requests<3,>=2.21.0->tensorboard<2.13,>=2.12->tensorflow>=2.10->keras-gsam==1.0.0) (3.4)\n",
            "Requirement already satisfied: MarkupSafe>=2.1.1 in /usr/local/lib/python3.10/dist-packages (from werkzeug>=1.0.1->tensorboard<2.13,>=2.12->tensorflow>=2.10->keras-gsam==1.0.0) (2.1.3)\n",
            "Requirement already satisfied: pyasn1<0.6.0,>=0.4.6 in /usr/local/lib/python3.10/dist-packages (from pyasn1-modules>=0.2.1->google-auth<3,>=1.6.3->tensorboard<2.13,>=2.12->tensorflow>=2.10->keras-gsam==1.0.0) (0.5.0)\n",
            "Requirement already satisfied: oauthlib>=3.0.0 in /usr/local/lib/python3.10/dist-packages (from requests-oauthlib>=0.7.0->google-auth-oauthlib<1.1,>=0.5->tensorboard<2.13,>=2.12->tensorflow>=2.10->keras-gsam==1.0.0) (3.2.2)\n",
            "2.12.0\n"
          ]
        },
        {
          "name": "stderr",
          "output_type": "stream",
          "text": [
            "WARNING:absl:`tf.distribute.experimental.TPUStrategy` is deprecated, please use  the non experimental symbol `tf.distribute.TPUStrategy` instead.\n"
          ]
        },
        {
          "name": "stdout",
          "output_type": "stream",
          "text": [
            "Number of accelerators:  8\n"
          ]
        }
      ],
      "source": [
        "%pip install git+https://github.com/mortfer/keras-gsam.git\n",
        "import tensorflow as tf\n",
        "from tensorflow.keras.models.experimental import SharpnessAwareMinimization\n",
        "import copy\n",
        "import matplotlib.pyplot as plt\n",
        "import time\n",
        "from gsam import GSAM\n",
        "from gsam.resnet_cifar10 import get_resnet\n",
        "\n",
        "print(tf.__version__)\n",
        "try: # detect TPUs\n",
        "    tpu = None\n",
        "    tpu = tf.distribute.cluster_resolver.TPUClusterResolver() # TPU detection\n",
        "    tf.config.experimental_connect_to_cluster(tpu)\n",
        "    tf.tpu.experimental.initialize_tpu_system(tpu)\n",
        "    strategy = tf.distribute.experimental.TPUStrategy(tpu)\n",
        "except ValueError: # detect GPUs\n",
        "    strategy = tf.distribute.MirroredStrategy() # for GPU or multi-GPU machines\n",
        "\n",
        "print(\"Number of accelerators: \", strategy.num_replicas_in_sync)"
      ]
    },
    {
      "cell_type": "code",
      "execution_count": 5,
      "metadata": {
        "id": "k9cnggULf2DW"
      },
      "outputs": [],
      "source": [
        "def plot_history(history):\n",
        "    plt.plot(history.history[\"loss\"], label=\"Training Loss\")\n",
        "    plt.plot(history.history[\"val_loss\"], label=\"Validation Loss\")\n",
        "    plt.plot(history.history[\"accuracy\"], label=\"Training Accuracy\")\n",
        "    plt.plot(history.history[\"val_accuracy\"], label=\"Validation Accuracy\")\n",
        "    plt.legend()\n",
        "    plt.grid()\n",
        "    plt.show()"
      ]
    },
    {
      "attachments": {},
      "cell_type": "markdown",
      "metadata": {
        "id": "WM0Ne_rs1OMZ"
      },
      "source": [
        "## Load Dataset and Prepare Data Loaders"
      ]
    },
    {
      "cell_type": "code",
      "execution_count": 6,
      "metadata": {
        "colab": {
          "base_uri": "https://localhost:8080/"
        },
        "id": "vKLGpSfmbTEz",
        "outputId": "fcbf47e6-2a09-43f9-d6d9-792bd56a347a"
      },
      "outputs": [
        {
          "name": "stdout",
          "output_type": "stream",
          "text": [
            "Downloading data from https://www.cs.toronto.edu/~kriz/cifar-10-python.tar.gz\n",
            "170498071/170498071 [==============================] - 8s 0us/step\n",
            "Training samples: 50000\n",
            "Testing samples: 10000\n"
          ]
        }
      ],
      "source": [
        "(x_train, y_train), (x_test, y_test) = tf.keras.datasets.cifar10.load_data()\n",
        "print(f\"Training samples: {len(x_train)}\")\n",
        "print(f\"Testing samples: {len(x_test)}\")"
      ]
    },
    {
      "cell_type": "code",
      "execution_count": 7,
      "metadata": {
        "colab": {
          "base_uri": "https://localhost:8080/"
        },
        "id": "8SQ2_RLQa8w2",
        "outputId": "342e6776-3d13-46e5-d7bc-ef6d4fb29cf4"
      },
      "outputs": [
        {
          "name": "stdout",
          "output_type": "stream",
          "text": [
            "Batch size: 1024\n"
          ]
        }
      ],
      "source": [
        "BATCH_SIZE = 128 * strategy.num_replicas_in_sync\n",
        "print(f\"Batch size: {BATCH_SIZE}\")\n",
        "AUTO = tf.data.AUTOTUNE\n",
        "\n",
        "def scale(image, label):\n",
        "    image = tf.image.convert_image_dtype(image, tf.float32)\n",
        "    label = tf.cast(label, tf.int32)\n",
        "    return image, label\n",
        "\n",
        "def augment(image,label):\n",
        "    image = tf.image.resize_with_crop_or_pad(image, 40, 40) # Add 8 pixels of padding\n",
        "    image = tf.image.random_crop(image, size=[32, 32, 3]) # Random crop back to 32x32\n",
        "    image = tf.image.random_brightness(image, max_delta=0.5) # Random brightness\n",
        "    image = tf.clip_by_value(image, 0., 1.)\n",
        "\n",
        "    return image, label\n",
        "\n",
        "train_ds = tf.data.Dataset.from_tensor_slices((x_train, y_train))\n",
        "train_ds = (\n",
        "    train_ds\n",
        "    .shuffle(1024)\n",
        "    .map(scale, num_parallel_calls=AUTO)\n",
        "    .map(augment, num_parallel_calls=AUTO)\n",
        "    .batch(BATCH_SIZE)\n",
        "    .prefetch(AUTO)\n",
        ")\n",
        "\n",
        "test_ds = tf.data.Dataset.from_tensor_slices((x_test, y_test))\n",
        "test_ds = (\n",
        "    test_ds\n",
        "    .map(scale, num_parallel_calls=AUTO)\n",
        "    .batch(BATCH_SIZE)\n",
        "    .prefetch(AUTO)\n",
        ")"
      ]
    },
    {
      "attachments": {},
      "cell_type": "markdown",
      "metadata": {
        "id": "GdhtsEdU1523"
      },
      "source": [
        "## Define Callbacks"
      ]
    },
    {
      "cell_type": "code",
      "execution_count": 8,
      "metadata": {
        "id": "nExIz3Wxe7Q-"
      },
      "outputs": [],
      "source": [
        "train_callbacks = [\n",
        "    tf.keras.callbacks.EarlyStopping(\n",
        "        monitor=\"val_loss\", patience=10,\n",
        "        restore_best_weights=True\n",
        "    ),\n",
        "    tf.keras.callbacks.ReduceLROnPlateau(\n",
        "        monitor=\"val_loss\", factor=0.5,\n",
        "        patience=3, verbose=1\n",
        "    )\n",
        "]"
      ]
    },
    {
      "attachments": {},
      "cell_type": "markdown",
      "metadata": {
        "id": "yMm5keuWNJH7"
      },
      "source": [
        "## Train a Regular ResNet20 Model"
      ]
    },
    {
      "cell_type": "code",
      "execution_count": null,
      "metadata": {
        "colab": {
          "base_uri": "https://localhost:8080/"
        },
        "id": "vglYqMPSNJIB",
        "outputId": "85281046-c23c-4e31-e8ec-3d4c09f9ff91"
      },
      "outputs": [
        {
          "name": "stdout",
          "output_type": "stream",
          "text": [
            "Epoch 1/200\n",
            "49/49 [==============================] - 42s 405ms/step - loss: 1.9098 - accuracy: 0.2914 - val_loss: 3.4451 - val_accuracy: 0.1099 - lr: 0.0010\n",
            "Epoch 2/200\n",
            "49/49 [==============================] - 3s 65ms/step - loss: 1.5928 - accuracy: 0.4140 - val_loss: 7.3959 - val_accuracy: 0.1136 - lr: 0.0010\n",
            "Epoch 3/200\n",
            "49/49 [==============================] - 3s 63ms/step - loss: 1.4361 - accuracy: 0.4780 - val_loss: 4.1616 - val_accuracy: 0.1571 - lr: 0.0010\n",
            "Epoch 4/200\n",
            "49/49 [==============================] - ETA: 0s - loss: 1.3182 - accuracy: 0.5262\n",
            "Epoch 4: ReduceLROnPlateau reducing learning rate to 0.0005000000237487257.\n",
            "49/49 [==============================] - 3s 64ms/step - loss: 1.3182 - accuracy: 0.5262 - val_loss: 3.4476 - val_accuracy: 0.1905 - lr: 0.0010\n",
            "Epoch 5/200\n",
            "49/49 [==============================] - 4s 87ms/step - loss: 1.2282 - accuracy: 0.5616 - val_loss: 2.1262 - val_accuracy: 0.2921 - lr: 5.0000e-04\n",
            "Epoch 6/200\n",
            "49/49 [==============================] - 4s 80ms/step - loss: 1.1813 - accuracy: 0.5763 - val_loss: 1.6299 - val_accuracy: 0.4132 - lr: 5.0000e-04\n",
            "Epoch 7/200\n",
            "49/49 [==============================] - 4s 77ms/step - loss: 1.1350 - accuracy: 0.5965 - val_loss: 1.3796 - val_accuracy: 0.5187 - lr: 5.0000e-04\n",
            "Epoch 8/200\n",
            "49/49 [==============================] - 4s 77ms/step - loss: 1.0976 - accuracy: 0.6104 - val_loss: 1.1756 - val_accuracy: 0.5783 - lr: 5.0000e-04\n",
            "Epoch 9/200\n",
            "49/49 [==============================] - 4s 88ms/step - loss: 1.0617 - accuracy: 0.6255 - val_loss: 1.1628 - val_accuracy: 0.5879 - lr: 5.0000e-04\n",
            "Epoch 10/200\n",
            "49/49 [==============================] - 4s 73ms/step - loss: 1.0319 - accuracy: 0.6342 - val_loss: 1.1961 - val_accuracy: 0.5791 - lr: 5.0000e-04\n",
            "Epoch 11/200\n",
            "49/49 [==============================] - 4s 77ms/step - loss: 0.9992 - accuracy: 0.6466 - val_loss: 1.1586 - val_accuracy: 0.5911 - lr: 5.0000e-04\n",
            "Epoch 12/200\n",
            "49/49 [==============================] - 3s 63ms/step - loss: 0.9688 - accuracy: 0.6564 - val_loss: 1.1647 - val_accuracy: 0.5945 - lr: 5.0000e-04\n",
            "Epoch 13/200\n",
            "49/49 [==============================] - 4s 85ms/step - loss: 0.9411 - accuracy: 0.6678 - val_loss: 1.0867 - val_accuracy: 0.6308 - lr: 5.0000e-04\n",
            "Epoch 14/200\n",
            "49/49 [==============================] - 4s 75ms/step - loss: 0.9194 - accuracy: 0.6748 - val_loss: 0.9518 - val_accuracy: 0.6656 - lr: 5.0000e-04\n",
            "Epoch 15/200\n",
            "49/49 [==============================] - 4s 75ms/step - loss: 0.8965 - accuracy: 0.6864 - val_loss: 0.9246 - val_accuracy: 0.6748 - lr: 5.0000e-04\n",
            "Epoch 16/200\n",
            "49/49 [==============================] - 4s 78ms/step - loss: 0.8711 - accuracy: 0.6955 - val_loss: 0.9215 - val_accuracy: 0.6792 - lr: 5.0000e-04\n",
            "Epoch 17/200\n",
            "49/49 [==============================] - 5s 104ms/step - loss: 0.8520 - accuracy: 0.7004 - val_loss: 0.9708 - val_accuracy: 0.6659 - lr: 5.0000e-04\n",
            "Epoch 18/200\n",
            "49/49 [==============================] - 4s 75ms/step - loss: 0.8344 - accuracy: 0.7061 - val_loss: 0.8685 - val_accuracy: 0.6928 - lr: 5.0000e-04\n",
            "Epoch 19/200\n",
            "49/49 [==============================] - 4s 74ms/step - loss: 0.8114 - accuracy: 0.7161 - val_loss: 0.8620 - val_accuracy: 0.6991 - lr: 5.0000e-04\n",
            "Epoch 20/200\n",
            "49/49 [==============================] - 3s 70ms/step - loss: 0.7917 - accuracy: 0.7257 - val_loss: 0.9070 - val_accuracy: 0.6909 - lr: 5.0000e-04\n",
            "Epoch 21/200\n",
            "49/49 [==============================] - 4s 86ms/step - loss: 0.7744 - accuracy: 0.7295 - val_loss: 0.8504 - val_accuracy: 0.7080 - lr: 5.0000e-04\n",
            "Epoch 22/200\n",
            "49/49 [==============================] - 4s 74ms/step - loss: 0.7590 - accuracy: 0.7346 - val_loss: 0.7853 - val_accuracy: 0.7278 - lr: 5.0000e-04\n",
            "Epoch 23/200\n",
            "49/49 [==============================] - 4s 74ms/step - loss: 0.7409 - accuracy: 0.7404 - val_loss: 0.7585 - val_accuracy: 0.7441 - lr: 5.0000e-04\n",
            "Epoch 24/200\n",
            "49/49 [==============================] - 4s 85ms/step - loss: 0.7198 - accuracy: 0.7499 - val_loss: 0.7519 - val_accuracy: 0.7408 - lr: 5.0000e-04\n",
            "Epoch 25/200\n",
            "49/49 [==============================] - 4s 80ms/step - loss: 0.7084 - accuracy: 0.7540 - val_loss: 0.7290 - val_accuracy: 0.7539 - lr: 5.0000e-04\n",
            "Epoch 26/200\n",
            "49/49 [==============================] - 4s 76ms/step - loss: 0.6961 - accuracy: 0.7584 - val_loss: 0.7031 - val_accuracy: 0.7631 - lr: 5.0000e-04\n",
            "Epoch 27/200\n",
            "49/49 [==============================] - 3s 63ms/step - loss: 0.6752 - accuracy: 0.7666 - val_loss: 0.7517 - val_accuracy: 0.7486 - lr: 5.0000e-04\n",
            "Epoch 28/200\n",
            "49/49 [==============================] - 3s 71ms/step - loss: 0.6654 - accuracy: 0.7674 - val_loss: 0.7257 - val_accuracy: 0.7548 - lr: 5.0000e-04\n",
            "Epoch 29/200\n",
            "49/49 [==============================] - ETA: 0s - loss: 0.6490 - accuracy: 0.7745\n",
            "Epoch 29: ReduceLROnPlateau reducing learning rate to 0.0002500000118743628.\n",
            "49/49 [==============================] - 3s 68ms/step - loss: 0.6490 - accuracy: 0.7745 - val_loss: 0.8903 - val_accuracy: 0.7070 - lr: 5.0000e-04\n",
            "Epoch 30/200\n",
            "49/49 [==============================] - 4s 75ms/step - loss: 0.6262 - accuracy: 0.7816 - val_loss: 0.6391 - val_accuracy: 0.7781 - lr: 2.5000e-04\n",
            "Epoch 31/200\n",
            "49/49 [==============================] - 3s 63ms/step - loss: 0.6203 - accuracy: 0.7849 - val_loss: 0.6612 - val_accuracy: 0.7716 - lr: 2.5000e-04\n",
            "Epoch 32/200\n",
            "49/49 [==============================] - 4s 83ms/step - loss: 0.6085 - accuracy: 0.7907 - val_loss: 0.6365 - val_accuracy: 0.7818 - lr: 2.5000e-04\n",
            "Epoch 33/200\n",
            "49/49 [==============================] - 3s 70ms/step - loss: 0.6022 - accuracy: 0.7914 - val_loss: 0.6835 - val_accuracy: 0.7645 - lr: 2.5000e-04\n",
            "Epoch 34/200\n",
            "49/49 [==============================] - 3s 63ms/step - loss: 0.5946 - accuracy: 0.7917 - val_loss: 0.6972 - val_accuracy: 0.7667 - lr: 2.5000e-04\n",
            "Epoch 35/200\n",
            "49/49 [==============================] - ETA: 0s - loss: 0.5872 - accuracy: 0.7978\n",
            "Epoch 35: ReduceLROnPlateau reducing learning rate to 0.0001250000059371814.\n",
            "49/49 [==============================] - 5s 93ms/step - loss: 0.5872 - accuracy: 0.7978 - val_loss: 0.6429 - val_accuracy: 0.7824 - lr: 2.5000e-04\n",
            "Epoch 36/200\n",
            "49/49 [==============================] - 4s 85ms/step - loss: 0.5724 - accuracy: 0.8016 - val_loss: 0.6264 - val_accuracy: 0.7853 - lr: 1.2500e-04\n",
            "Epoch 37/200\n",
            "49/49 [==============================] - 4s 77ms/step - loss: 0.5682 - accuracy: 0.8034 - val_loss: 0.6067 - val_accuracy: 0.7919 - lr: 1.2500e-04\n",
            "Epoch 38/200\n",
            "49/49 [==============================] - 3s 64ms/step - loss: 0.5632 - accuracy: 0.8050 - val_loss: 0.6137 - val_accuracy: 0.7920 - lr: 1.2500e-04\n",
            "Epoch 39/200\n",
            "49/49 [==============================] - 4s 75ms/step - loss: 0.5602 - accuracy: 0.8048 - val_loss: 0.5921 - val_accuracy: 0.7979 - lr: 1.2500e-04\n",
            "Epoch 40/200\n",
            "49/49 [==============================] - 4s 73ms/step - loss: 0.5571 - accuracy: 0.8077 - val_loss: 0.6046 - val_accuracy: 0.7971 - lr: 1.2500e-04\n",
            "Epoch 41/200\n",
            "49/49 [==============================] - 3s 67ms/step - loss: 0.5517 - accuracy: 0.8084 - val_loss: 0.6096 - val_accuracy: 0.7936 - lr: 1.2500e-04\n",
            "Epoch 42/200\n",
            "49/49 [==============================] - ETA: 0s - loss: 0.5487 - accuracy: 0.8084\n",
            "Epoch 42: ReduceLROnPlateau reducing learning rate to 6.25000029685907e-05.\n",
            "49/49 [==============================] - 3s 64ms/step - loss: 0.5487 - accuracy: 0.8084 - val_loss: 0.6049 - val_accuracy: 0.7943 - lr: 1.2500e-04\n",
            "Epoch 43/200\n",
            "49/49 [==============================] - 4s 76ms/step - loss: 0.5447 - accuracy: 0.8107 - val_loss: 0.5913 - val_accuracy: 0.7988 - lr: 6.2500e-05\n",
            "Epoch 44/200\n",
            "49/49 [==============================] - 3s 70ms/step - loss: 0.5403 - accuracy: 0.8143 - val_loss: 0.5928 - val_accuracy: 0.7997 - lr: 6.2500e-05\n",
            "Epoch 45/200\n",
            "49/49 [==============================] - 4s 81ms/step - loss: 0.5402 - accuracy: 0.8128 - val_loss: 0.5932 - val_accuracy: 0.7976 - lr: 6.2500e-05\n",
            "Epoch 46/200\n",
            "49/49 [==============================] - ETA: 0s - loss: 0.5380 - accuracy: 0.8122\n",
            "Epoch 46: ReduceLROnPlateau reducing learning rate to 3.125000148429535e-05.\n",
            "49/49 [==============================] - 4s 76ms/step - loss: 0.5380 - accuracy: 0.8122 - val_loss: 0.5912 - val_accuracy: 0.7979 - lr: 6.2500e-05\n",
            "Epoch 47/200\n",
            "49/49 [==============================] - 4s 75ms/step - loss: 0.5312 - accuracy: 0.8158 - val_loss: 0.5771 - val_accuracy: 0.8045 - lr: 3.1250e-05\n",
            "Epoch 48/200\n",
            "49/49 [==============================] - 4s 82ms/step - loss: 0.5308 - accuracy: 0.8154 - val_loss: 0.5766 - val_accuracy: 0.8039 - lr: 3.1250e-05\n",
            "Epoch 49/200\n",
            "49/49 [==============================] - 3s 70ms/step - loss: 0.5308 - accuracy: 0.8181 - val_loss: 0.5816 - val_accuracy: 0.8046 - lr: 3.1250e-05\n",
            "Epoch 50/200\n",
            "49/49 [==============================] - 3s 63ms/step - loss: 0.5290 - accuracy: 0.8165 - val_loss: 0.5815 - val_accuracy: 0.8034 - lr: 3.1250e-05\n",
            "Epoch 51/200\n",
            "49/49 [==============================] - ETA: 0s - loss: 0.5304 - accuracy: 0.8162\n",
            "Epoch 51: ReduceLROnPlateau reducing learning rate to 1.5625000742147677e-05.\n",
            "49/49 [==============================] - 3s 64ms/step - loss: 0.5304 - accuracy: 0.8162 - val_loss: 0.5820 - val_accuracy: 0.8019 - lr: 3.1250e-05\n",
            "Epoch 52/200\n",
            "49/49 [==============================] - 5s 99ms/step - loss: 0.5292 - accuracy: 0.8166 - val_loss: 0.5767 - val_accuracy: 0.8060 - lr: 1.5625e-05\n",
            "Epoch 53/200\n",
            "49/49 [==============================] - 4s 83ms/step - loss: 0.5292 - accuracy: 0.8184 - val_loss: 0.5747 - val_accuracy: 0.8047 - lr: 1.5625e-05\n",
            "Epoch 54/200\n",
            "49/49 [==============================] - 4s 74ms/step - loss: 0.5250 - accuracy: 0.8202 - val_loss: 0.5721 - val_accuracy: 0.8058 - lr: 1.5625e-05\n",
            "Epoch 55/200\n",
            "49/49 [==============================] - 3s 63ms/step - loss: 0.5257 - accuracy: 0.8190 - val_loss: 0.5742 - val_accuracy: 0.8047 - lr: 1.5625e-05\n",
            "Epoch 56/200\n",
            "49/49 [==============================] - 3s 69ms/step - loss: 0.5232 - accuracy: 0.8197 - val_loss: 0.5743 - val_accuracy: 0.8052 - lr: 1.5625e-05\n",
            "Epoch 57/200\n",
            "49/49 [==============================] - ETA: 0s - loss: 0.5214 - accuracy: 0.8185\n",
            "Epoch 57: ReduceLROnPlateau reducing learning rate to 7.812500371073838e-06.\n",
            "49/49 [==============================] - 3s 71ms/step - loss: 0.5214 - accuracy: 0.8185 - val_loss: 0.5770 - val_accuracy: 0.8054 - lr: 1.5625e-05\n",
            "Epoch 58/200\n",
            "49/49 [==============================] - 3s 63ms/step - loss: 0.5222 - accuracy: 0.8175 - val_loss: 0.5738 - val_accuracy: 0.8053 - lr: 7.8125e-06\n",
            "Epoch 59/200\n",
            "49/49 [==============================] - 3s 62ms/step - loss: 0.5195 - accuracy: 0.8203 - val_loss: 0.5746 - val_accuracy: 0.8057 - lr: 7.8125e-06\n",
            "Epoch 60/200\n",
            "49/49 [==============================] - ETA: 0s - loss: 0.5222 - accuracy: 0.8189\n",
            "Epoch 60: ReduceLROnPlateau reducing learning rate to 3.906250185536919e-06.\n",
            "49/49 [==============================] - 3s 67ms/step - loss: 0.5222 - accuracy: 0.8189 - val_loss: 0.5742 - val_accuracy: 0.8064 - lr: 7.8125e-06\n",
            "Epoch 61/200\n",
            "49/49 [==============================] - 3s 71ms/step - loss: 0.5213 - accuracy: 0.8202 - val_loss: 0.5739 - val_accuracy: 0.8075 - lr: 3.9063e-06\n",
            "Epoch 62/200\n",
            "49/49 [==============================] - 3s 64ms/step - loss: 0.5244 - accuracy: 0.8173 - val_loss: 0.5722 - val_accuracy: 0.8056 - lr: 3.9063e-06\n",
            "Epoch 63/200\n",
            "49/49 [==============================] - ETA: 0s - loss: 0.5183 - accuracy: 0.8225\n",
            "Epoch 63: ReduceLROnPlateau reducing learning rate to 1.9531250927684596e-06.\n",
            "49/49 [==============================] - 3s 63ms/step - loss: 0.5183 - accuracy: 0.8225 - val_loss: 0.5732 - val_accuracy: 0.8052 - lr: 3.9063e-06\n",
            "Epoch 64/200\n",
            "49/49 [==============================] - 5s 105ms/step - loss: 0.5227 - accuracy: 0.8199 - val_loss: 0.5729 - val_accuracy: 0.8052 - lr: 1.9531e-06\n",
            "Total training time: 5.172944442431132 minutes\n"
          ]
        }
      ],
      "source": [
        "with strategy.scope():\n",
        "    model = get_resnet(n=2) #resnet20\n",
        "\n",
        "model.compile(\n",
        "    optimizer=\"adam\", loss=\"sparse_categorical_crossentropy\", metrics=[\"accuracy\"]\n",
        ")\n",
        "\n",
        "start = time.time()\n",
        "history = model.fit(train_ds,\n",
        "                   validation_data=test_ds,\n",
        "                   callbacks=train_callbacks,\n",
        "                   epochs=200) # 200 eppochs since SAM takes two backprop steps for an update\n",
        "print(f\"Total training time: {(time.time() - start)/60.} minutes\")"
      ]
    },
    {
      "cell_type": "code",
      "execution_count": null,
      "metadata": {
        "colab": {
          "base_uri": "https://localhost:8080/",
          "height": 430
        },
        "id": "5QGG0fbcNJIB",
        "outputId": "9db57d47-e958-4dc4-b397-53c6cc970102"
      },
      "outputs": [
        {
          "data": {
            "image/png": "[encoded data removed]",
            "text/plain": [
              "<Figure size 640x480 with 1 Axes>"
            ]
          },
          "metadata": {},
          "output_type": "display_data"
        }
      ],
      "source": [
        "utils.plot_history(history)"
      ]
    },
    {
      "attachments": {},
      "cell_type": "markdown",
      "metadata": {
        "id": "FIhxFkRB18do"
      },
      "source": [
        "## Train a SAM Resnet20 Model\n"
      ]
    },
    {
      "cell_type": "code",
      "execution_count": null,
      "metadata": {
        "colab": {
          "base_uri": "https://localhost:8080/"
        },
        "id": "ul5zFTyvQd9Q",
        "outputId": "0e25afcf-0a9e-4e68-8e05-5cefe9a8def9"
      },
      "outputs": [
        {
          "name": "stdout",
          "output_type": "stream",
          "text": [
            "Total learnable parameters: 0.575114 M\n"
          ]
        }
      ],
      "source": [
        "with strategy.scope():\n",
        "    sam_model = SharpnessAwareMinimization(get_resnet(n=2))#resnet20\n",
        "sam_model.compile(\n",
        "    optimizer=\"adam\", loss=\"sparse_categorical_crossentropy\", metrics=[\"accuracy\"]\n",
        ")\n",
        "print(f\"Total learnable parameters: {sam_model.model.count_params()/1e6} M\")"
      ]
    },
    {
      "cell_type": "code",
      "execution_count": null,
      "metadata": {
        "colab": {
          "base_uri": "https://localhost:8080/"
        },
        "id": "E6HVdWvaQGRZ",
        "outputId": "9b2ed94d-f749-466c-98e5-4e98b0d4b88e"
      },
      "outputs": [
        {
          "name": "stdout",
          "output_type": "stream",
          "text": [
            "Epoch 1/100\n",
            "49/49 [==============================] - 49s 465ms/step - loss: 2.9259 - accuracy: 0.0898 - val_loss: 2.2059 - val_accuracy: 0.2077 - lr: 0.0010\n",
            "Epoch 2/100\n",
            "49/49 [==============================] - 6s 121ms/step - loss: 2.1746 - accuracy: 0.1581 - val_loss: 1.9544 - val_accuracy: 0.2975 - lr: 0.0010\n",
            "Epoch 3/100\n",
            "49/49 [==============================] - 5s 102ms/step - loss: 2.0318 - accuracy: 0.2038 - val_loss: 1.8333 - val_accuracy: 0.3323 - lr: 0.0010\n",
            "Epoch 4/100\n",
            "49/49 [==============================] - 5s 94ms/step - loss: 1.9394 - accuracy: 0.2438 - val_loss: 1.7719 - val_accuracy: 0.3454 - lr: 0.0010\n",
            "Epoch 5/100\n",
            "49/49 [==============================] - 4s 91ms/step - loss: 1.8511 - accuracy: 0.2798 - val_loss: 1.6534 - val_accuracy: 0.3867 - lr: 0.0010\n",
            "Epoch 6/100\n",
            "49/49 [==============================] - 5s 100ms/step - loss: 1.7727 - accuracy: 0.3092 - val_loss: 1.5870 - val_accuracy: 0.4217 - lr: 0.0010\n",
            "Epoch 7/100\n",
            "49/49 [==============================] - 4s 92ms/step - loss: 1.7031 - accuracy: 0.3402 - val_loss: 1.5548 - val_accuracy: 0.4253 - lr: 0.0010\n",
            "Epoch 8/100\n",
            "49/49 [==============================] - 4s 88ms/step - loss: 1.6450 - accuracy: 0.3684 - val_loss: 1.4780 - val_accuracy: 0.4633 - lr: 0.0010\n",
            "Epoch 9/100\n",
            "49/49 [==============================] - 5s 95ms/step - loss: 1.6004 - accuracy: 0.3823 - val_loss: 1.4534 - val_accuracy: 0.4664 - lr: 0.0010\n",
            "Epoch 10/100\n",
            "49/49 [==============================] - 5s 100ms/step - loss: 1.5606 - accuracy: 0.4012 - val_loss: 1.3888 - val_accuracy: 0.4906 - lr: 0.0010\n",
            "Epoch 11/100\n",
            "49/49 [==============================] - 4s 91ms/step - loss: 1.5248 - accuracy: 0.4155 - val_loss: 1.3699 - val_accuracy: 0.5005 - lr: 0.0010\n",
            "Epoch 12/100\n",
            "49/49 [==============================] - 5s 92ms/step - loss: 1.4869 - accuracy: 0.4292 - val_loss: 1.3392 - val_accuracy: 0.5022 - lr: 0.0010\n",
            "Epoch 13/100\n",
            "49/49 [==============================] - 5s 102ms/step - loss: 1.4481 - accuracy: 0.4434 - val_loss: 1.2978 - val_accuracy: 0.5292 - lr: 0.0010\n",
            "Epoch 14/100\n",
            "49/49 [==============================] - 4s 90ms/step - loss: 1.4064 - accuracy: 0.4604 - val_loss: 1.2440 - val_accuracy: 0.5497 - lr: 0.0010\n",
            "Epoch 15/100\n",
            "49/49 [==============================] - 4s 91ms/step - loss: 1.3864 - accuracy: 0.4679 - val_loss: 1.2074 - val_accuracy: 0.5658 - lr: 0.0010\n",
            "Epoch 16/100\n",
            "49/49 [==============================] - 5s 103ms/step - loss: 1.3371 - accuracy: 0.4892 - val_loss: 1.1713 - val_accuracy: 0.5740 - lr: 0.0010\n",
            "Epoch 17/100\n",
            "49/49 [==============================] - 4s 91ms/step - loss: 1.3147 - accuracy: 0.5014 - val_loss: 1.1695 - val_accuracy: 0.5833 - lr: 0.0010\n",
            "Epoch 18/100\n",
            "49/49 [==============================] - 4s 92ms/step - loss: 1.3027 - accuracy: 0.5038 - val_loss: 1.1362 - val_accuracy: 0.5901 - lr: 0.0010\n",
            "Epoch 19/100\n",
            "49/49 [==============================] - 5s 101ms/step - loss: 1.2568 - accuracy: 0.5200 - val_loss: 1.1029 - val_accuracy: 0.6042 - lr: 0.0010\n",
            "Epoch 20/100\n",
            "49/49 [==============================] - 4s 88ms/step - loss: 1.2235 - accuracy: 0.5350 - val_loss: 1.0624 - val_accuracy: 0.6189 - lr: 0.0010\n",
            "Epoch 21/100\n",
            "49/49 [==============================] - 4s 89ms/step - loss: 1.1906 - accuracy: 0.5470 - val_loss: 1.0489 - val_accuracy: 0.6244 - lr: 0.0010\n",
            "Epoch 22/100\n",
            "49/49 [==============================] - 4s 84ms/step - loss: 1.1820 - accuracy: 0.5512 - val_loss: 1.0517 - val_accuracy: 0.6300 - lr: 0.0010\n",
            "Epoch 23/100\n",
            "49/49 [==============================] - 4s 90ms/step - loss: 1.1572 - accuracy: 0.5595 - val_loss: 1.0275 - val_accuracy: 0.6288 - lr: 0.0010\n",
            "Epoch 24/100\n",
            "49/49 [==============================] - 4s 88ms/step - loss: 1.1248 - accuracy: 0.5737 - val_loss: 0.9944 - val_accuracy: 0.6440 - lr: 0.0010\n",
            "Epoch 25/100\n",
            "49/49 [==============================] - 5s 100ms/step - loss: 1.1303 - accuracy: 0.5724 - val_loss: 0.9709 - val_accuracy: 0.6546 - lr: 0.0010\n",
            "Epoch 26/100\n",
            "49/49 [==============================] - 5s 97ms/step - loss: 1.0877 - accuracy: 0.5863 - val_loss: 0.9467 - val_accuracy: 0.6673 - lr: 0.0010\n",
            "Epoch 27/100\n",
            "49/49 [==============================] - 4s 88ms/step - loss: 1.0690 - accuracy: 0.5945 - val_loss: 0.9143 - val_accuracy: 0.6711 - lr: 0.0010\n",
            "Epoch 28/100\n",
            "49/49 [==============================] - 4s 85ms/step - loss: 1.0342 - accuracy: 0.6075 - val_loss: 0.8988 - val_accuracy: 0.6829 - lr: 0.0010\n",
            "Epoch 29/100\n",
            "49/49 [==============================] - 4s 84ms/step - loss: 1.0271 - accuracy: 0.6106 - val_loss: 0.9076 - val_accuracy: 0.6757 - lr: 0.0010\n",
            "Epoch 30/100\n",
            "49/49 [==============================] - 4s 88ms/step - loss: 1.0144 - accuracy: 0.6157 - val_loss: 0.8887 - val_accuracy: 0.6874 - lr: 0.0010\n",
            "Epoch 31/100\n",
            "49/49 [==============================] - 4s 87ms/step - loss: 0.9948 - accuracy: 0.6226 - val_loss: 0.8652 - val_accuracy: 0.6928 - lr: 0.0010\n",
            "Epoch 32/100\n",
            "49/49 [==============================] - 5s 93ms/step - loss: 0.9854 - accuracy: 0.6264 - val_loss: 0.8493 - val_accuracy: 0.7038 - lr: 0.0010\n",
            "Epoch 33/100\n",
            "49/49 [==============================] - 4s 81ms/step - loss: 0.9659 - accuracy: 0.6358 - val_loss: 0.8615 - val_accuracy: 0.6966 - lr: 0.0010\n",
            "Epoch 34/100\n",
            "49/49 [==============================] - 4s 75ms/step - loss: 0.9643 - accuracy: 0.6344 - val_loss: 0.8688 - val_accuracy: 0.6951 - lr: 0.0010\n",
            "Epoch 35/100\n",
            "49/49 [==============================] - 4s 88ms/step - loss: 0.9450 - accuracy: 0.6427 - val_loss: 0.8268 - val_accuracy: 0.7114 - lr: 0.0010\n",
            "Epoch 36/100\n",
            "49/49 [==============================] - 5s 98ms/step - loss: 0.9241 - accuracy: 0.6478 - val_loss: 0.8235 - val_accuracy: 0.7129 - lr: 0.0010\n",
            "Epoch 37/100\n",
            "49/49 [==============================] - 4s 90ms/step - loss: 0.9097 - accuracy: 0.6553 - val_loss: 0.8008 - val_accuracy: 0.7182 - lr: 0.0010\n",
            "Epoch 38/100\n",
            "49/49 [==============================] - 4s 78ms/step - loss: 0.8975 - accuracy: 0.6603 - val_loss: 0.8058 - val_accuracy: 0.7185 - lr: 0.0010\n",
            "Epoch 39/100\n",
            "49/49 [==============================] - 5s 96ms/step - loss: 0.8904 - accuracy: 0.6641 - val_loss: 0.7921 - val_accuracy: 0.7246 - lr: 0.0010\n",
            "Epoch 40/100\n",
            "49/49 [==============================] - 4s 89ms/step - loss: 0.8770 - accuracy: 0.6680 - val_loss: 0.7766 - val_accuracy: 0.7301 - lr: 0.0010\n",
            "Epoch 41/100\n",
            "49/49 [==============================] - 4s 78ms/step - loss: 0.8637 - accuracy: 0.6719 - val_loss: 0.7905 - val_accuracy: 0.7285 - lr: 0.0010\n",
            "Epoch 42/100\n",
            "49/49 [==============================] - 5s 95ms/step - loss: 0.8546 - accuracy: 0.6775 - val_loss: 0.7746 - val_accuracy: 0.7316 - lr: 0.0010\n",
            "Epoch 43/100\n",
            "49/49 [==============================] - 5s 96ms/step - loss: 0.8410 - accuracy: 0.6802 - val_loss: 0.7534 - val_accuracy: 0.7373 - lr: 0.0010\n",
            "Epoch 44/100\n",
            "49/49 [==============================] - 4s 74ms/step - loss: 0.8335 - accuracy: 0.6848 - val_loss: 0.7563 - val_accuracy: 0.7421 - lr: 0.0010\n",
            "Epoch 45/100\n",
            "49/49 [==============================] - 4s 78ms/step - loss: 0.8223 - accuracy: 0.6892 - val_loss: 0.7566 - val_accuracy: 0.7419 - lr: 0.0010\n",
            "Epoch 46/100\n",
            "49/49 [==============================] - 5s 100ms/step - loss: 0.8091 - accuracy: 0.6955 - val_loss: 0.7257 - val_accuracy: 0.7483 - lr: 0.0010\n",
            "Epoch 47/100\n",
            "49/49 [==============================] - 4s 89ms/step - loss: 0.7890 - accuracy: 0.7014 - val_loss: 0.7247 - val_accuracy: 0.7511 - lr: 0.0010\n",
            "Epoch 48/100\n",
            "49/49 [==============================] - 4s 88ms/step - loss: 0.7782 - accuracy: 0.7051 - val_loss: 0.7192 - val_accuracy: 0.7529 - lr: 0.0010\n",
            "Epoch 49/100\n",
            "49/49 [==============================] - 5s 98ms/step - loss: 0.7754 - accuracy: 0.7055 - val_loss: 0.7175 - val_accuracy: 0.7528 - lr: 0.0010\n",
            "Epoch 50/100\n",
            "49/49 [==============================] - 4s 89ms/step - loss: 0.7675 - accuracy: 0.7082 - val_loss: 0.6908 - val_accuracy: 0.7588 - lr: 0.0010\n",
            "Epoch 51/100\n",
            "49/49 [==============================] - 4s 77ms/step - loss: 0.7475 - accuracy: 0.7150 - val_loss: 0.7023 - val_accuracy: 0.7576 - lr: 0.0010\n",
            "Epoch 52/100\n",
            "49/49 [==============================] - 4s 75ms/step - loss: 0.7431 - accuracy: 0.7185 - val_loss: 0.7006 - val_accuracy: 0.7613 - lr: 0.0010\n",
            "Epoch 53/100\n",
            "49/49 [==============================] - 5s 100ms/step - loss: 0.7301 - accuracy: 0.7243 - val_loss: 0.6828 - val_accuracy: 0.7644 - lr: 0.0010\n",
            "Epoch 54/100\n",
            "49/49 [==============================] - 4s 90ms/step - loss: 0.7173 - accuracy: 0.7259 - val_loss: 0.6694 - val_accuracy: 0.7706 - lr: 0.0010\n",
            "Epoch 55/100\n",
            "49/49 [==============================] - 4s 90ms/step - loss: 0.7149 - accuracy: 0.7305 - val_loss: 0.6650 - val_accuracy: 0.7747 - lr: 0.0010\n",
            "Epoch 56/100\n",
            "49/49 [==============================] - 4s 84ms/step - loss: 0.6977 - accuracy: 0.7372 - val_loss: 0.6974 - val_accuracy: 0.7644 - lr: 0.0010\n",
            "Epoch 57/100\n",
            "49/49 [==============================] - 6s 120ms/step - loss: 0.7061 - accuracy: 0.7300 - val_loss: 0.6641 - val_accuracy: 0.7738 - lr: 0.0010\n",
            "Epoch 58/100\n",
            "49/49 [==============================] - 4s 90ms/step - loss: 0.6866 - accuracy: 0.7402 - val_loss: 0.6459 - val_accuracy: 0.7820 - lr: 0.0010\n",
            "Epoch 59/100\n",
            "49/49 [==============================] - 5s 102ms/step - loss: 0.6818 - accuracy: 0.7396 - val_loss: 0.6248 - val_accuracy: 0.7860 - lr: 0.0010\n",
            "Epoch 60/100\n",
            "49/49 [==============================] - 4s 89ms/step - loss: 0.6641 - accuracy: 0.7485 - val_loss: 0.6164 - val_accuracy: 0.7893 - lr: 0.0010\n",
            "Epoch 61/100\n",
            "49/49 [==============================] - 4s 89ms/step - loss: 0.6558 - accuracy: 0.7531 - val_loss: 0.6135 - val_accuracy: 0.7910 - lr: 0.0010\n",
            "Epoch 62/100\n",
            "49/49 [==============================] - 4s 81ms/step - loss: 0.6484 - accuracy: 0.7537 - val_loss: 0.6274 - val_accuracy: 0.7846 - lr: 0.0010\n",
            "Epoch 63/100\n",
            "49/49 [==============================] - 5s 98ms/step - loss: 0.6403 - accuracy: 0.7566 - val_loss: 0.5960 - val_accuracy: 0.7947 - lr: 0.0010\n",
            "Epoch 64/100\n",
            "49/49 [==============================] - 4s 75ms/step - loss: 0.6354 - accuracy: 0.7583 - val_loss: 0.6253 - val_accuracy: 0.7890 - lr: 0.0010\n",
            "Epoch 65/100\n",
            "49/49 [==============================] - 4s 77ms/step - loss: 0.6254 - accuracy: 0.7616 - val_loss: 0.6062 - val_accuracy: 0.7950 - lr: 0.0010\n",
            "Epoch 66/100\n",
            "49/49 [==============================] - ETA: 0s - loss: 0.6190 - accuracy: 0.7636\n",
            "Epoch 66: ReduceLROnPlateau reducing learning rate to 0.0005000000237487257.\n",
            "49/49 [==============================] - 4s 84ms/step - loss: 0.6190 - accuracy: 0.7636 - val_loss: 0.6073 - val_accuracy: 0.7962 - lr: 0.0010\n",
            "Epoch 67/100\n",
            "49/49 [==============================] - 5s 92ms/step - loss: 0.5952 - accuracy: 0.7720 - val_loss: 0.5831 - val_accuracy: 0.8029 - lr: 5.0000e-04\n",
            "Epoch 68/100\n",
            "49/49 [==============================] - 4s 76ms/step - loss: 0.5793 - accuracy: 0.7784 - val_loss: 0.5879 - val_accuracy: 0.8030 - lr: 5.0000e-04\n",
            "Epoch 69/100\n",
            "49/49 [==============================] - 4s 80ms/step - loss: 0.5795 - accuracy: 0.7786 - val_loss: 0.5831 - val_accuracy: 0.8038 - lr: 5.0000e-04\n",
            "Epoch 70/100\n",
            "49/49 [==============================] - 5s 100ms/step - loss: 0.5728 - accuracy: 0.7794 - val_loss: 0.5811 - val_accuracy: 0.8057 - lr: 5.0000e-04\n",
            "Epoch 71/100\n",
            "49/49 [==============================] - 4s 78ms/step - loss: 0.5729 - accuracy: 0.7801 - val_loss: 0.5820 - val_accuracy: 0.8047 - lr: 5.0000e-04\n",
            "Epoch 72/100\n",
            "49/49 [==============================] - 4s 88ms/step - loss: 0.5683 - accuracy: 0.7826 - val_loss: 0.5804 - val_accuracy: 0.8068 - lr: 5.0000e-04\n",
            "Epoch 73/100\n",
            "49/49 [==============================] - 5s 97ms/step - loss: 0.5614 - accuracy: 0.7856 - val_loss: 0.5659 - val_accuracy: 0.8111 - lr: 5.0000e-04\n",
            "Epoch 74/100\n",
            "49/49 [==============================] - 4s 87ms/step - loss: 0.5600 - accuracy: 0.7852 - val_loss: 0.5607 - val_accuracy: 0.8134 - lr: 5.0000e-04\n",
            "Epoch 75/100\n",
            "49/49 [==============================] - 4s 75ms/step - loss: 0.5549 - accuracy: 0.7862 - val_loss: 0.5620 - val_accuracy: 0.8121 - lr: 5.0000e-04\n",
            "Epoch 76/100\n",
            "49/49 [==============================] - 4s 80ms/step - loss: 0.5480 - accuracy: 0.7885 - val_loss: 0.5731 - val_accuracy: 0.8092 - lr: 5.0000e-04\n",
            "Epoch 77/100\n",
            "49/49 [==============================] - 5s 95ms/step - loss: 0.5476 - accuracy: 0.7897 - val_loss: 0.5556 - val_accuracy: 0.8124 - lr: 5.0000e-04\n",
            "Epoch 78/100\n",
            "49/49 [==============================] - 4s 86ms/step - loss: 0.5369 - accuracy: 0.7936 - val_loss: 0.5541 - val_accuracy: 0.8162 - lr: 5.0000e-04\n",
            "Epoch 79/100\n",
            "49/49 [==============================] - 4s 75ms/step - loss: 0.5370 - accuracy: 0.7944 - val_loss: 0.5575 - val_accuracy: 0.8139 - lr: 5.0000e-04\n",
            "Epoch 80/100\n",
            "49/49 [==============================] - 4s 81ms/step - loss: 0.5346 - accuracy: 0.7934 - val_loss: 0.5597 - val_accuracy: 0.8132 - lr: 5.0000e-04\n",
            "Epoch 81/100\n",
            "48/49 [============================>.] - ETA: 0s - loss: 0.5315 - accuracy: 0.7937\n",
            "Epoch 81: ReduceLROnPlateau reducing learning rate to 0.0002500000118743628.\n",
            "49/49 [==============================] - 4s 75ms/step - loss: 0.5315 - accuracy: 0.7936 - val_loss: 0.5630 - val_accuracy: 0.8118 - lr: 5.0000e-04\n",
            "Epoch 82/100\n",
            "49/49 [==============================] - 4s 84ms/step - loss: 0.5215 - accuracy: 0.7963 - val_loss: 0.5374 - val_accuracy: 0.8194 - lr: 2.5000e-04\n",
            "Epoch 83/100\n",
            "49/49 [==============================] - 4s 77ms/step - loss: 0.5152 - accuracy: 0.8022 - val_loss: 0.5420 - val_accuracy: 0.8210 - lr: 2.5000e-04\n",
            "Epoch 84/100\n",
            "49/49 [==============================] - 4s 81ms/step - loss: 0.5118 - accuracy: 0.8030 - val_loss: 0.5417 - val_accuracy: 0.8188 - lr: 2.5000e-04\n",
            "Epoch 85/100\n",
            "48/49 [============================>.] - ETA: 0s - loss: 0.5122 - accuracy: 0.8015\n",
            "Epoch 85: ReduceLROnPlateau reducing learning rate to 0.0001250000059371814.\n",
            "49/49 [==============================] - 4s 74ms/step - loss: 0.5122 - accuracy: 0.8014 - val_loss: 0.5376 - val_accuracy: 0.8212 - lr: 2.5000e-04\n",
            "Epoch 86/100\n",
            "49/49 [==============================] - 4s 73ms/step - loss: 0.5039 - accuracy: 0.8058 - val_loss: 0.5377 - val_accuracy: 0.8210 - lr: 1.2500e-04\n",
            "Epoch 87/100\n",
            "49/49 [==============================] - 5s 93ms/step - loss: 0.4973 - accuracy: 0.8071 - val_loss: 0.5334 - val_accuracy: 0.8225 - lr: 1.2500e-04\n",
            "Epoch 88/100\n",
            "49/49 [==============================] - 4s 81ms/step - loss: 0.5008 - accuracy: 0.8071 - val_loss: 0.5366 - val_accuracy: 0.8221 - lr: 1.2500e-04\n",
            "Epoch 89/100\n",
            "49/49 [==============================] - 4s 74ms/step - loss: 0.4976 - accuracy: 0.8064 - val_loss: 0.5350 - val_accuracy: 0.8214 - lr: 1.2500e-04\n",
            "Epoch 90/100\n",
            "49/49 [==============================] - 4s 84ms/step - loss: 0.4964 - accuracy: 0.8077 - val_loss: 0.5323 - val_accuracy: 0.8248 - lr: 1.2500e-04\n",
            "Epoch 91/100\n",
            "49/49 [==============================] - 4s 79ms/step - loss: 0.4929 - accuracy: 0.8098 - val_loss: 0.5350 - val_accuracy: 0.8233 - lr: 1.2500e-04\n",
            "Epoch 92/100\n",
            "49/49 [==============================] - 4s 76ms/step - loss: 0.4972 - accuracy: 0.8078 - val_loss: 0.5344 - val_accuracy: 0.8233 - lr: 1.2500e-04\n",
            "Epoch 93/100\n",
            "49/49 [==============================] - 4s 86ms/step - loss: 0.4912 - accuracy: 0.8089 - val_loss: 0.5299 - val_accuracy: 0.8251 - lr: 1.2500e-04\n",
            "Epoch 94/100\n",
            "49/49 [==============================] - 4s 78ms/step - loss: 0.4874 - accuracy: 0.8116 - val_loss: 0.5341 - val_accuracy: 0.8250 - lr: 1.2500e-04\n",
            "Epoch 95/100\n",
            "49/49 [==============================] - 4s 81ms/step - loss: 0.4862 - accuracy: 0.8115 - val_loss: 0.5318 - val_accuracy: 0.8248 - lr: 1.2500e-04\n",
            "Epoch 96/100\n",
            "49/49 [==============================] - 4s 83ms/step - loss: 0.4887 - accuracy: 0.8114 - val_loss: 0.5290 - val_accuracy: 0.8236 - lr: 1.2500e-04\n",
            "Epoch 97/100\n",
            "49/49 [==============================] - 4s 74ms/step - loss: 0.4892 - accuracy: 0.8083 - val_loss: 0.5319 - val_accuracy: 0.8224 - lr: 1.2500e-04\n",
            "Epoch 98/100\n",
            "49/49 [==============================] - 4s 79ms/step - loss: 0.4882 - accuracy: 0.8105 - val_loss: 0.5291 - val_accuracy: 0.8236 - lr: 1.2500e-04\n",
            "Epoch 99/100\n",
            "48/49 [============================>.] - ETA: 0s - loss: 0.4827 - accuracy: 0.8120\n",
            "Epoch 99: ReduceLROnPlateau reducing learning rate to 6.25000029685907e-05.\n",
            "49/49 [==============================] - 4s 77ms/step - loss: 0.4833 - accuracy: 0.8118 - val_loss: 0.5324 - val_accuracy: 0.8232 - lr: 1.2500e-04\n",
            "Epoch 100/100\n",
            "49/49 [==============================] - 5s 92ms/step - loss: 0.4807 - accuracy: 0.8136 - val_loss: 0.5283 - val_accuracy: 0.8233 - lr: 6.2500e-05\n",
            "Total training time: 9.1348370552063 minutes\n"
          ]
        }
      ],
      "source": [
        "start = time.time()\n",
        "sam_history = sam_model.fit(train_ds,\n",
        "                   validation_data=test_ds,\n",
        "                   callbacks=train_callbacks,\n",
        "                   epochs=100)\n",
        "print(f\"Total training time: {(time.time() - start)/60.} minutes\")"
      ]
    },
    {
      "cell_type": "code",
      "execution_count": null,
      "metadata": {
        "colab": {
          "base_uri": "https://localhost:8080/",
          "height": 430
        },
        "id": "FTPzLMkNuhnF",
        "outputId": "e1b52a3c-f3ec-4e90-df94-fd9cb866f0ea"
      },
      "outputs": [
        {
          "data": {
            "image/png": "[encoded data removed]",
            "text/plain": [
              "<Figure size 640x480 with 1 Axes>"
            ]
          },
          "metadata": {},
          "output_type": "display_data"
        }
      ],
      "source": [
        "plot_history(sam_history)"
      ]
    },
    {
      "attachments": {},
      "cell_type": "markdown",
      "metadata": {
        "id": "52RjGwqr2gfs"
      },
      "source": [
        "## Train a GSAM ResNet20 Model"
      ]
    },
    {
      "cell_type": "code",
      "execution_count": null,
      "metadata": {
        "colab": {
          "base_uri": "https://localhost:8080/"
        },
        "id": "7Ce2OYj-IJ2B",
        "outputId": "11fb3e81-2aaa-4f5b-b6a8-0bf056ef428e"
      },
      "outputs": [
        {
          "name": "stdout",
          "output_type": "stream",
          "text": [
            "Total learnable parameters: 0.575114 M\n",
            "Epoch 1/100\n",
            "49/49 [==============================] - 56s 480ms/step - loss: 2.6301 - accuracy: 0.1001 - val_loss: 2.1434 - val_accuracy: 0.2073 - lr: 0.0010\n",
            "Epoch 2/100\n",
            "49/49 [==============================] - 4s 84ms/step - loss: 2.1521 - accuracy: 0.1631 - val_loss: 2.0073 - val_accuracy: 0.2740 - lr: 0.0010\n",
            "Epoch 3/100\n",
            "49/49 [==============================] - 4s 84ms/step - loss: 2.0846 - accuracy: 0.1916 - val_loss: 1.9029 - val_accuracy: 0.3202 - lr: 0.0010\n",
            "Epoch 4/100\n",
            "49/49 [==============================] - 5s 92ms/step - loss: 1.9814 - accuracy: 0.2319 - val_loss: 1.7604 - val_accuracy: 0.3343 - lr: 0.0010\n",
            "Epoch 5/100\n",
            "49/49 [==============================] - 5s 93ms/step - loss: 1.8641 - accuracy: 0.2787 - val_loss: 1.6564 - val_accuracy: 0.3873 - lr: 0.0010\n",
            "Epoch 6/100\n",
            "49/49 [==============================] - 4s 85ms/step - loss: 1.7757 - accuracy: 0.3095 - val_loss: 1.5770 - val_accuracy: 0.4202 - lr: 0.0010\n",
            "Epoch 7/100\n",
            "49/49 [==============================] - 4s 86ms/step - loss: 1.7142 - accuracy: 0.3382 - val_loss: 1.4877 - val_accuracy: 0.4462 - lr: 0.0010\n",
            "Epoch 8/100\n",
            "49/49 [==============================] - 5s 96ms/step - loss: 1.6285 - accuracy: 0.3748 - val_loss: 1.4508 - val_accuracy: 0.4656 - lr: 0.0010\n",
            "Epoch 9/100\n",
            "49/49 [==============================] - 4s 86ms/step - loss: 1.5690 - accuracy: 0.3957 - val_loss: 1.4349 - val_accuracy: 0.4659 - lr: 0.0010\n",
            "Epoch 10/100\n",
            "49/49 [==============================] - 4s 85ms/step - loss: 1.5525 - accuracy: 0.4032 - val_loss: 1.3626 - val_accuracy: 0.4949 - lr: 0.0010\n",
            "Epoch 11/100\n",
            "49/49 [==============================] - 5s 96ms/step - loss: 1.4799 - accuracy: 0.4356 - val_loss: 1.3028 - val_accuracy: 0.5264 - lr: 0.0010\n",
            "Epoch 12/100\n",
            "49/49 [==============================] - 4s 87ms/step - loss: 1.4451 - accuracy: 0.4473 - val_loss: 1.2659 - val_accuracy: 0.5363 - lr: 0.0010\n",
            "Epoch 13/100\n",
            "49/49 [==============================] - 4s 86ms/step - loss: 1.4131 - accuracy: 0.4633 - val_loss: 1.2446 - val_accuracy: 0.5468 - lr: 0.0010\n",
            "Epoch 14/100\n",
            "49/49 [==============================] - 5s 93ms/step - loss: 1.3725 - accuracy: 0.4766 - val_loss: 1.1880 - val_accuracy: 0.5696 - lr: 0.0010\n",
            "Epoch 15/100\n",
            "49/49 [==============================] - 5s 93ms/step - loss: 1.3420 - accuracy: 0.4919 - val_loss: 1.1800 - val_accuracy: 0.5706 - lr: 0.0010\n",
            "Epoch 16/100\n",
            "49/49 [==============================] - 4s 87ms/step - loss: 1.3000 - accuracy: 0.5034 - val_loss: 1.1138 - val_accuracy: 0.5992 - lr: 0.0010\n",
            "Epoch 17/100\n",
            "49/49 [==============================] - 6s 122ms/step - loss: 1.2698 - accuracy: 0.5212 - val_loss: 1.1005 - val_accuracy: 0.6040 - lr: 0.0010\n",
            "Epoch 18/100\n",
            "49/49 [==============================] - 4s 92ms/step - loss: 1.2312 - accuracy: 0.5339 - val_loss: 1.0738 - val_accuracy: 0.6088 - lr: 0.0010\n",
            "Epoch 19/100\n",
            "49/49 [==============================] - 4s 85ms/step - loss: 1.2113 - accuracy: 0.5375 - val_loss: 1.0401 - val_accuracy: 0.6253 - lr: 0.0010\n",
            "Epoch 20/100\n",
            "49/49 [==============================] - 4s 87ms/step - loss: 1.1937 - accuracy: 0.5461 - val_loss: 1.0261 - val_accuracy: 0.6300 - lr: 0.0010\n",
            "Epoch 21/100\n",
            "49/49 [==============================] - 5s 98ms/step - loss: 1.1594 - accuracy: 0.5610 - val_loss: 1.0060 - val_accuracy: 0.6354 - lr: 0.0010\n",
            "Epoch 22/100\n",
            "49/49 [==============================] - 4s 88ms/step - loss: 1.1254 - accuracy: 0.5721 - val_loss: 0.9844 - val_accuracy: 0.6496 - lr: 0.0010\n",
            "Epoch 23/100\n",
            "49/49 [==============================] - 4s 86ms/step - loss: 1.1148 - accuracy: 0.5786 - val_loss: 0.9479 - val_accuracy: 0.6640 - lr: 0.0010\n",
            "Epoch 24/100\n",
            "49/49 [==============================] - 5s 100ms/step - loss: 1.0843 - accuracy: 0.5904 - val_loss: 0.9415 - val_accuracy: 0.6667 - lr: 0.0010\n",
            "Epoch 25/100\n",
            "49/49 [==============================] - 4s 89ms/step - loss: 1.0644 - accuracy: 0.5987 - val_loss: 0.9327 - val_accuracy: 0.6683 - lr: 0.0010\n",
            "Epoch 26/100\n",
            "49/49 [==============================] - 4s 89ms/step - loss: 1.0407 - accuracy: 0.6085 - val_loss: 0.8909 - val_accuracy: 0.6828 - lr: 0.0010\n",
            "Epoch 27/100\n",
            "49/49 [==============================] - 4s 82ms/step - loss: 1.0289 - accuracy: 0.6123 - val_loss: 0.8909 - val_accuracy: 0.6887 - lr: 0.0010\n",
            "Epoch 28/100\n",
            "49/49 [==============================] - 5s 93ms/step - loss: 1.0122 - accuracy: 0.6156 - val_loss: 0.8775 - val_accuracy: 0.6838 - lr: 0.0010\n",
            "Epoch 29/100\n",
            "49/49 [==============================] - 4s 87ms/step - loss: 0.9844 - accuracy: 0.6290 - val_loss: 0.8610 - val_accuracy: 0.6987 - lr: 0.0010\n",
            "Epoch 30/100\n",
            "49/49 [==============================] - 4s 91ms/step - loss: 0.9871 - accuracy: 0.6289 - val_loss: 0.8507 - val_accuracy: 0.7025 - lr: 0.0010\n",
            "Epoch 31/100\n",
            "49/49 [==============================] - 5s 96ms/step - loss: 0.9638 - accuracy: 0.6350 - val_loss: 0.8333 - val_accuracy: 0.7073 - lr: 0.0010\n",
            "Epoch 32/100\n",
            "49/49 [==============================] - 4s 88ms/step - loss: 0.9445 - accuracy: 0.6432 - val_loss: 0.8226 - val_accuracy: 0.7108 - lr: 0.0010\n",
            "Epoch 33/100\n",
            "49/49 [==============================] - 4s 87ms/step - loss: 0.9290 - accuracy: 0.6485 - val_loss: 0.8109 - val_accuracy: 0.7172 - lr: 0.0010\n",
            "Epoch 34/100\n",
            "49/49 [==============================] - 4s 85ms/step - loss: 0.9124 - accuracy: 0.6548 - val_loss: 0.8154 - val_accuracy: 0.7126 - lr: 0.0010\n",
            "Epoch 35/100\n",
            "49/49 [==============================] - 4s 89ms/step - loss: 0.9140 - accuracy: 0.6532 - val_loss: 0.7901 - val_accuracy: 0.7265 - lr: 0.0010\n",
            "Epoch 36/100\n",
            "49/49 [==============================] - 4s 76ms/step - loss: 0.8850 - accuracy: 0.6658 - val_loss: 0.7969 - val_accuracy: 0.7228 - lr: 0.0010\n",
            "Epoch 37/100\n",
            "49/49 [==============================] - 4s 80ms/step - loss: 0.8763 - accuracy: 0.6701 - val_loss: 0.7976 - val_accuracy: 0.7280 - lr: 0.0010\n",
            "Epoch 38/100\n",
            "49/49 [==============================] - 5s 99ms/step - loss: 0.8615 - accuracy: 0.6754 - val_loss: 0.7764 - val_accuracy: 0.7334 - lr: 0.0010\n",
            "Epoch 39/100\n",
            "49/49 [==============================] - 4s 90ms/step - loss: 0.8484 - accuracy: 0.6780 - val_loss: 0.7521 - val_accuracy: 0.7400 - lr: 0.0010\n",
            "Epoch 40/100\n",
            "49/49 [==============================] - 4s 89ms/step - loss: 0.8307 - accuracy: 0.6848 - val_loss: 0.7377 - val_accuracy: 0.7434 - lr: 0.0010\n",
            "Epoch 41/100\n",
            "49/49 [==============================] - 7s 139ms/step - loss: 0.8196 - accuracy: 0.6890 - val_loss: 0.7274 - val_accuracy: 0.7498 - lr: 0.0010\n",
            "Epoch 42/100\n",
            "49/49 [==============================] - 4s 86ms/step - loss: 0.7966 - accuracy: 0.6987 - val_loss: 0.7213 - val_accuracy: 0.7539 - lr: 0.0010\n",
            "Epoch 43/100\n",
            "49/49 [==============================] - 4s 89ms/step - loss: 0.7903 - accuracy: 0.7012 - val_loss: 0.7027 - val_accuracy: 0.7593 - lr: 0.0010\n",
            "Epoch 44/100\n",
            "49/49 [==============================] - 4s 84ms/step - loss: 0.7752 - accuracy: 0.7070 - val_loss: 0.7064 - val_accuracy: 0.7555 - lr: 0.0010\n",
            "Epoch 45/100\n",
            "49/49 [==============================] - 4s 87ms/step - loss: 0.7687 - accuracy: 0.7085 - val_loss: 0.6876 - val_accuracy: 0.7640 - lr: 0.0010\n",
            "Epoch 46/100\n",
            "49/49 [==============================] - 4s 86ms/step - loss: 0.7554 - accuracy: 0.7137 - val_loss: 0.6784 - val_accuracy: 0.7647 - lr: 0.0010\n",
            "Epoch 47/100\n",
            "49/49 [==============================] - 4s 84ms/step - loss: 0.7486 - accuracy: 0.7177 - val_loss: 0.6797 - val_accuracy: 0.7661 - lr: 0.0010\n",
            "Epoch 48/100\n",
            "49/49 [==============================] - 4s 89ms/step - loss: 0.7331 - accuracy: 0.7248 - val_loss: 0.6708 - val_accuracy: 0.7730 - lr: 0.0010\n",
            "Epoch 49/100\n",
            "49/49 [==============================] - 4s 74ms/step - loss: 0.7270 - accuracy: 0.7250 - val_loss: 0.6722 - val_accuracy: 0.7701 - lr: 0.0010\n",
            "Epoch 50/100\n",
            "49/49 [==============================] - 5s 92ms/step - loss: 0.7111 - accuracy: 0.7315 - val_loss: 0.6686 - val_accuracy: 0.7724 - lr: 0.0010\n",
            "Epoch 51/100\n",
            "49/49 [==============================] - 5s 96ms/step - loss: 0.7030 - accuracy: 0.7343 - val_loss: 0.6487 - val_accuracy: 0.7780 - lr: 0.0010\n",
            "Epoch 52/100\n",
            "49/49 [==============================] - 4s 87ms/step - loss: 0.6917 - accuracy: 0.7400 - val_loss: 0.6381 - val_accuracy: 0.7832 - lr: 0.0010\n",
            "Epoch 53/100\n",
            "49/49 [==============================] - 4s 73ms/step - loss: 0.6782 - accuracy: 0.7421 - val_loss: 0.6498 - val_accuracy: 0.7791 - lr: 0.0010\n",
            "Epoch 54/100\n",
            "49/49 [==============================] - 4s 81ms/step - loss: 0.6762 - accuracy: 0.7440 - val_loss: 0.6447 - val_accuracy: 0.7821 - lr: 0.0010\n",
            "Epoch 55/100\n",
            "49/49 [==============================] - 4s 87ms/step - loss: 0.6649 - accuracy: 0.7481 - val_loss: 0.6045 - val_accuracy: 0.7938 - lr: 0.0010\n",
            "Epoch 56/100\n",
            "49/49 [==============================] - 4s 84ms/step - loss: 0.6506 - accuracy: 0.7524 - val_loss: 0.5959 - val_accuracy: 0.7977 - lr: 0.0010\n",
            "Epoch 57/100\n",
            "49/49 [==============================] - 4s 75ms/step - loss: 0.6476 - accuracy: 0.7529 - val_loss: 0.6183 - val_accuracy: 0.7918 - lr: 0.0010\n",
            "Epoch 58/100\n",
            "49/49 [==============================] - 4s 80ms/step - loss: 0.6453 - accuracy: 0.7542 - val_loss: 0.6132 - val_accuracy: 0.7916 - lr: 0.0010\n",
            "Epoch 59/100\n",
            "49/49 [==============================] - 4s 88ms/step - loss: 0.6399 - accuracy: 0.7581 - val_loss: 0.5890 - val_accuracy: 0.8046 - lr: 0.0010\n",
            "Epoch 60/100\n",
            "49/49 [==============================] - 4s 85ms/step - loss: 0.6224 - accuracy: 0.7629 - val_loss: 0.5846 - val_accuracy: 0.8050 - lr: 0.0010\n",
            "Epoch 61/100\n",
            "49/49 [==============================] - 5s 99ms/step - loss: 0.6115 - accuracy: 0.7678 - val_loss: 0.5788 - val_accuracy: 0.8043 - lr: 0.0010\n",
            "Epoch 62/100\n",
            "49/49 [==============================] - 4s 76ms/step - loss: 0.6106 - accuracy: 0.7693 - val_loss: 0.5863 - val_accuracy: 0.7991 - lr: 0.0010\n",
            "Epoch 63/100\n",
            "49/49 [==============================] - 4s 78ms/step - loss: 0.5979 - accuracy: 0.7728 - val_loss: 0.5831 - val_accuracy: 0.8049 - lr: 0.0010\n",
            "Epoch 64/100\n",
            "48/49 [============================>.] - ETA: 0s - loss: 0.6027 - accuracy: 0.7707\n",
            "Epoch 64: ReduceLROnPlateau reducing learning rate to 0.0005000000237487257.\n",
            "49/49 [==============================] - 4s 80ms/step - loss: 0.6024 - accuracy: 0.7709 - val_loss: 0.5795 - val_accuracy: 0.8054 - lr: 0.0010\n",
            "Epoch 65/100\n",
            "49/49 [==============================] - 7s 138ms/step - loss: 0.5668 - accuracy: 0.7851 - val_loss: 0.5540 - val_accuracy: 0.8151 - lr: 5.0000e-04\n",
            "Epoch 66/100\n",
            "49/49 [==============================] - 4s 76ms/step - loss: 0.5549 - accuracy: 0.7892 - val_loss: 0.5559 - val_accuracy: 0.8136 - lr: 5.0000e-04\n",
            "Epoch 67/100\n",
            "49/49 [==============================] - 4s 91ms/step - loss: 0.5541 - accuracy: 0.7888 - val_loss: 0.5502 - val_accuracy: 0.8153 - lr: 5.0000e-04\n",
            "Epoch 68/100\n",
            "49/49 [==============================] - 4s 85ms/step - loss: 0.5482 - accuracy: 0.7894 - val_loss: 0.5543 - val_accuracy: 0.8146 - lr: 5.0000e-04\n",
            "Epoch 69/100\n",
            "49/49 [==============================] - 4s 77ms/step - loss: 0.5437 - accuracy: 0.7924 - val_loss: 0.5580 - val_accuracy: 0.8127 - lr: 5.0000e-04\n",
            "Epoch 70/100\n",
            "49/49 [==============================] - 4s 89ms/step - loss: 0.5396 - accuracy: 0.7933 - val_loss: 0.5450 - val_accuracy: 0.8167 - lr: 5.0000e-04\n",
            "Epoch 71/100\n",
            "49/49 [==============================] - 4s 84ms/step - loss: 0.5420 - accuracy: 0.7920 - val_loss: 0.5460 - val_accuracy: 0.8150 - lr: 5.0000e-04\n",
            "Epoch 72/100\n",
            "49/49 [==============================] - 4s 75ms/step - loss: 0.5337 - accuracy: 0.7967 - val_loss: 0.5504 - val_accuracy: 0.8153 - lr: 5.0000e-04\n",
            "Epoch 73/100\n",
            "48/49 [============================>.] - ETA: 0s - loss: 0.5298 - accuracy: 0.7976\n",
            "Epoch 73: ReduceLROnPlateau reducing learning rate to 0.0002500000118743628.\n",
            "49/49 [==============================] - 4s 78ms/step - loss: 0.5294 - accuracy: 0.7977 - val_loss: 0.5646 - val_accuracy: 0.8131 - lr: 5.0000e-04\n",
            "Epoch 74/100\n",
            "49/49 [==============================] - 4s 87ms/step - loss: 0.5155 - accuracy: 0.8024 - val_loss: 0.5294 - val_accuracy: 0.8227 - lr: 2.5000e-04\n",
            "Epoch 75/100\n",
            "49/49 [==============================] - 4s 84ms/step - loss: 0.5088 - accuracy: 0.8042 - val_loss: 0.5359 - val_accuracy: 0.8189 - lr: 2.5000e-04\n",
            "Epoch 76/100\n",
            "49/49 [==============================] - 4s 76ms/step - loss: 0.5075 - accuracy: 0.8049 - val_loss: 0.5316 - val_accuracy: 0.8244 - lr: 2.5000e-04\n",
            "Epoch 77/100\n",
            "49/49 [==============================] - 4s 85ms/step - loss: 0.5059 - accuracy: 0.8063 - val_loss: 0.5257 - val_accuracy: 0.8242 - lr: 2.5000e-04\n",
            "Epoch 78/100\n",
            "49/49 [==============================] - 4s 89ms/step - loss: 0.5026 - accuracy: 0.8065 - val_loss: 0.5252 - val_accuracy: 0.8275 - lr: 2.5000e-04\n",
            "Epoch 79/100\n",
            "49/49 [==============================] - 4s 78ms/step - loss: 0.4983 - accuracy: 0.8088 - val_loss: 0.5260 - val_accuracy: 0.8231 - lr: 2.5000e-04\n",
            "Epoch 80/100\n",
            "49/49 [==============================] - 4s 85ms/step - loss: 0.5010 - accuracy: 0.8066 - val_loss: 0.5186 - val_accuracy: 0.8253 - lr: 2.5000e-04\n",
            "Epoch 81/100\n",
            "49/49 [==============================] - 4s 73ms/step - loss: 0.5019 - accuracy: 0.8062 - val_loss: 0.5255 - val_accuracy: 0.8240 - lr: 2.5000e-04\n",
            "Epoch 82/100\n",
            "49/49 [==============================] - 4s 80ms/step - loss: 0.4951 - accuracy: 0.8096 - val_loss: 0.5226 - val_accuracy: 0.8213 - lr: 2.5000e-04\n",
            "Epoch 83/100\n",
            "48/49 [============================>.] - ETA: 0s - loss: 0.4991 - accuracy: 0.8072\n",
            "Epoch 83: ReduceLROnPlateau reducing learning rate to 0.0001250000059371814.\n",
            "49/49 [==============================] - 4s 75ms/step - loss: 0.4991 - accuracy: 0.8071 - val_loss: 0.5231 - val_accuracy: 0.8231 - lr: 2.5000e-04\n",
            "Epoch 84/100\n",
            "49/49 [==============================] - 4s 85ms/step - loss: 0.4847 - accuracy: 0.8140 - val_loss: 0.5175 - val_accuracy: 0.8282 - lr: 1.2500e-04\n",
            "Epoch 85/100\n",
            "49/49 [==============================] - 4s 75ms/step - loss: 0.4781 - accuracy: 0.8140 - val_loss: 0.5227 - val_accuracy: 0.8276 - lr: 1.2500e-04\n",
            "Epoch 86/100\n",
            "49/49 [==============================] - 4s 80ms/step - loss: 0.4797 - accuracy: 0.8144 - val_loss: 0.5215 - val_accuracy: 0.8261 - lr: 1.2500e-04\n",
            "Epoch 87/100\n",
            "49/49 [==============================] - ETA: 0s - loss: 0.4793 - accuracy: 0.8145\n",
            "Epoch 87: ReduceLROnPlateau reducing learning rate to 6.25000029685907e-05.\n",
            "49/49 [==============================] - 4s 73ms/step - loss: 0.4793 - accuracy: 0.8145 - val_loss: 0.5194 - val_accuracy: 0.8258 - lr: 1.2500e-04\n",
            "Epoch 88/100\n",
            "49/49 [==============================] - 4s 84ms/step - loss: 0.4755 - accuracy: 0.8159 - val_loss: 0.5157 - val_accuracy: 0.8285 - lr: 6.2500e-05\n",
            "Epoch 89/100\n",
            "49/49 [==============================] - 5s 95ms/step - loss: 0.4735 - accuracy: 0.8155 - val_loss: 0.5148 - val_accuracy: 0.8289 - lr: 6.2500e-05\n",
            "Epoch 90/100\n",
            "49/49 [==============================] - 4s 85ms/step - loss: 0.4747 - accuracy: 0.8155 - val_loss: 0.5146 - val_accuracy: 0.8302 - lr: 6.2500e-05\n",
            "Epoch 91/100\n",
            "49/49 [==============================] - 4s 73ms/step - loss: 0.4713 - accuracy: 0.8188 - val_loss: 0.5165 - val_accuracy: 0.8296 - lr: 6.2500e-05\n",
            "Epoch 92/100\n",
            "49/49 [==============================] - 4s 90ms/step - loss: 0.4732 - accuracy: 0.8167 - val_loss: 0.5145 - val_accuracy: 0.8294 - lr: 6.2500e-05\n",
            "Epoch 93/100\n",
            "49/49 [==============================] - ETA: 0s - loss: 0.4702 - accuracy: 0.8182\n",
            "Epoch 93: ReduceLROnPlateau reducing learning rate to 3.125000148429535e-05.\n",
            "49/49 [==============================] - 4s 80ms/step - loss: 0.4702 - accuracy: 0.8182 - val_loss: 0.5157 - val_accuracy: 0.8301 - lr: 6.2500e-05\n",
            "Epoch 94/100\n",
            "49/49 [==============================] - 4s 83ms/step - loss: 0.4702 - accuracy: 0.8182 - val_loss: 0.5139 - val_accuracy: 0.8289 - lr: 3.1250e-05\n",
            "Epoch 95/100\n",
            "49/49 [==============================] - 4s 84ms/step - loss: 0.4699 - accuracy: 0.8186 - val_loss: 0.5126 - val_accuracy: 0.8312 - lr: 3.1250e-05\n",
            "Epoch 96/100\n",
            "49/49 [==============================] - 5s 95ms/step - loss: 0.4662 - accuracy: 0.8174 - val_loss: 0.5125 - val_accuracy: 0.8292 - lr: 3.1250e-05\n",
            "Epoch 97/100\n",
            "49/49 [==============================] - 4s 85ms/step - loss: 0.4676 - accuracy: 0.8176 - val_loss: 0.5115 - val_accuracy: 0.8296 - lr: 3.1250e-05\n",
            "Epoch 98/100\n",
            "49/49 [==============================] - 4s 84ms/step - loss: 0.4675 - accuracy: 0.8184 - val_loss: 0.5107 - val_accuracy: 0.8305 - lr: 3.1250e-05\n",
            "Epoch 99/100\n",
            "49/49 [==============================] - 4s 76ms/step - loss: 0.4651 - accuracy: 0.8195 - val_loss: 0.5115 - val_accuracy: 0.8304 - lr: 3.1250e-05\n",
            "Epoch 100/100\n",
            "49/49 [==============================] - 4s 83ms/step - loss: 0.4650 - accuracy: 0.8205 - val_loss: 0.5111 - val_accuracy: 0.8304 - lr: 3.1250e-05\n",
            "Total training time: 9.032616718610127 minutes\n"
          ]
        }
      ],
      "source": [
        "with strategy.scope():\n",
        "  gsam_model = GSAM(get_resnet(n=2), alpha=0.005) #resnet20\n",
        "gsam_model.compile(\n",
        "    optimizer=\"adam\", loss=\"sparse_categorical_crossentropy\", metrics=[\"accuracy\"]\n",
        ")\n",
        "print(f\"Total learnable parameters: {gsam_model.model.count_params()/1e6} M\")\n",
        "\n",
        "start = time.time()\n",
        "gsam_history = gsam_model.fit(train_ds,\n",
        "                  validation_data=test_ds,\n",
        "                  callbacks=train_callbacks,\n",
        "                  epochs=100)\n",
        "print(f\"Total training time: {(time.time() - start)/60.} minutes\")"
      ]
    },
    {
      "cell_type": "code",
      "execution_count": null,
      "metadata": {
        "colab": {
          "base_uri": "https://localhost:8080/",
          "height": 430
        },
        "id": "EMWSdpMKI0mQ",
        "outputId": "c00f00a0-ee4a-4579-8fc3-a82aecd12249"
      },
      "outputs": [
        {
          "data": {
            "image/png": "[encoded data removed]",
            "text/plain": [
              "<Figure size 640x480 with 1 Axes>"
            ]
          },
          "metadata": {},
          "output_type": "display_data"
        }
      ],
      "source": [
        "plot_history(gsam_history)"
      ]
    }
  ],
  "metadata": {
    "accelerator": "TPU",
    "colab": {
      "collapsed_sections": [
        "yCS-CVSi1K0i",
        "WM0Ne_rs1OMZ",
        "GdhtsEdU1523",
        "yMm5keuWNJH7",
        "FIhxFkRB18do",
        "52RjGwqr2gfs"
      ],
      "provenance": []
    },
    "kernelspec": {
      "display_name": "Python 3",
      "name": "python3"
    }
  },
  "nbformat": 4,
  "nbformat_minor": 0
}
